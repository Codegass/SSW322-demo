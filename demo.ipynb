{
 "cells": [
  {
   "cell_type": "markdown",
   "metadata": {},
   "source": [
    "# Simplest RAG -- Embedding Search"
   ]
  },
  {
   "cell_type": "markdown",
   "metadata": {},
   "source": [
    "### Simple Setup and Test"
   ]
  },
  {
   "cell_type": "code",
   "execution_count": 28,
   "metadata": {},
   "outputs": [],
   "source": [
    "# imports\n",
    "import ast  # for converting embeddings saved as strings back to arrays\n",
    "from openai import OpenAI # for calling the OpenAI API\n",
    "import pandas as pd  # for storing text and embeddings data\n",
    "import tiktoken  # for counting tokens\n",
    "import os # for getting API token from env variable OPENAI_API_KEY\n",
    "from scipy import spatial  # for calculating vector similarities for search\n",
    "\n",
    "# API key\n",
    "from SECRET import OPENAI_API_KEY\n",
    "\n",
    "# create a list of models \n",
    "GPT_MODEL = \"gpt-4o\"\n",
    "# models\n",
    "EMBEDDING_MODEL = \"text-embedding-3-small\"\n",
    "\n",
    "client = OpenAI(api_key=OPENAI_API_KEY)"
   ]
  },
  {
   "cell_type": "code",
   "execution_count": 29,
   "metadata": {},
   "outputs": [
    {
     "name": "stdout",
     "output_type": "stream",
     "text": [
      "I'm sorry, but I don't have information on the results of the 2024 Summer Olympics.  \n",
      "The event is scheduled to take place in Paris, France, from July 26 to August 11, 2024.  \n",
      "For the latest updates, you might want to check official Olympic sources or news outlets.\n"
     ]
    }
   ],
   "source": [
    "# an example question about the 2022 Olympics\n",
    "query = 'Which athletes won the most number of gold medals in 2024 Summer Olympics?'\n",
    "\n",
    "response = client.chat.completions.create(\n",
    "    messages=[\n",
    "        {'role': 'system', 'content': 'You answer questions about the 2024 Games or latest events. And the output should change line by line.'},\n",
    "        {'role': 'user', 'content': query},\n",
    "    ],\n",
    "    model=GPT_MODEL,\n",
    "    temperature=0,\n",
    ")\n",
    "\n",
    "print(response.choices[0].message.content)"
   ]
  },
  {
   "cell_type": "markdown",
   "metadata": {},
   "source": [
    "### Simplest Inserting Knowledge"
   ]
  },
  {
   "cell_type": "code",
   "execution_count": null,
   "metadata": {},
   "outputs": [],
   "source": [
    "wikipedia_article = "
   ]
  },
  {
   "cell_type": "code",
   "execution_count": 30,
   "metadata": {},
   "outputs": [
    {
     "name": "stdout",
     "output_type": "stream",
     "text": [
      "The countries that won the maximum number of gold, silver, and bronze medals at the 2024 Summer Olympics are as follows:\n",
      "\n",
      "- Gold medals: United States and China (tied with 40 gold medals each)\n",
      "- Silver medals: United States (44 silver medals)\n",
      "- Bronze medals: United States (42 bronze medals)\n"
     ]
    }
   ],
   "source": [
    "query = f\"\"\"\n",
    "\n",
    "Use the below article on the 2024 Summer Olympics to answer the subsequent question. \n",
    "If the answer cannot be found, write \"I don't know.\"\n",
    "\n",
    "Article:\n",
    "\\\"\\\"\\\"\n",
    "{wikipedia_article}\n",
    "\\\"\\\"\\\"\n",
    "\n",
    "Question: Which countries won the maximum number of gold, silver and bronze medals respectively at 2024 Summer Olympics? \n",
    "List the countries in the order of gold, silver and bronze medals.\n",
    "\"\"\"\n",
    "\n",
    "response = client.chat.completions.create(\n",
    "    messages=[\n",
    "        {'role': 'system', 'content': 'You answer questions about the recent events.'},\n",
    "        {'role': 'user', 'content': query},\n",
    "    ],\n",
    "    model=GPT_MODEL,\n",
    "    temperature=0,\n",
    ")\n",
    "\n",
    "print(response.choices[0].message.content)"
   ]
  },
  {
   "cell_type": "markdown",
   "metadata": {},
   "source": [
    "### Retrieving Augmented Generation with Embedding Search"
   ]
  },
  {
   "cell_type": "code",
   "execution_count": 21,
   "metadata": {},
   "outputs": [],
   "source": [
    "embeddings_path = \"data/winter_olympics_2022.csv\"\n",
    "df = pd.read_csv(embeddings_path)\n",
    "# convert embeddings from CSV str type back to list type\n",
    "df['embedding'] = df['embedding'].apply(ast.literal_eval)"
   ]
  },
  {
   "cell_type": "markdown",
   "metadata": {},
   "source": [
    "#### Search Function"
   ]
  },
  {
   "cell_type": "code",
   "execution_count": 20,
   "metadata": {},
   "outputs": [],
   "source": [
    "def search_articles(query: str, df: pd.DataFrame, top_n: int = 3) -> list[str]:\n",
    "    \"\"\"\n",
    "    Calculate the embedding of the query,\n",
    "    then calculate the cosine similarity between each article and the query,\n",
    "    and return the top_n articles sorted by similarity.\n",
    "    \"\"\"\n",
    "    # Get the embedding for the query\n",
    "    query_embedding = client.embeddings.create(\n",
    "        model=EMBEDDING_MODEL,\n",
    "        input=query,\n",
    "    ).data[0].embedding\n",
    "\n",
    "    # Iterate through each row in the DataFrame and calculate similarity\n",
    "    scored_articles = []\n",
    "    for _, row in df.iterrows():\n",
    "        similarity = 1 - spatial.distance.cosine(query_embedding, row[\"embedding\"])\n",
    "        scored_articles.append((row[\"text\"], similarity))\n",
    "\n",
    "    # Sort by similarity in descending order and return the top_n articles\n",
    "    scored_articles.sort(key=lambda x: x[1], reverse=True)\n",
    "    top_articles = [text for text, _ in scored_articles[:top_n]]\n",
    "    return top_articles"
   ]
  },
  {
   "cell_type": "markdown",
   "metadata": {},
   "source": [
    "#### Ask Function"
   ]
  },
  {
   "cell_type": "code",
   "execution_count": 34,
   "metadata": {},
   "outputs": [],
   "source": [
    "def ask(query: str, knowledge_base: pd.DataFrame, top_n: int = 3, model: str = GPT_MODEL) -> str:\n",
    "    \"\"\"\n",
    "    Use GPT to answer the query.\n",
    "    First, use the search_articles function to find the most relevant articles from the DataFrame,\n",
    "    then send these articles along with the question to GPT.\n",
    "    \"\"\"\n",
    "    # Get the most relevant articles to the query\n",
    "    selected_articles = search_articles(query, df, top_n)\n",
    "\n",
    "    # Construct the prompt for GPT\n",
    "    introduction = (\n",
    "        \"The following articles provide information about the 2022 Winter Olympics. \"\n",
    "        \"Please answer the question based on these articles. \"\n",
    "        \"If the answer is not found in the articles, respond with 'I am not allowed to tell you that.'\"\n",
    "    )\n",
    "    articles_text = \"\"\n",
    "    for article in selected_articles:\n",
    "        articles_text += f'\\n\\nWikipedia article section:\\n\"\"\"\\n{article}\\n\"\"\"'\n",
    "    message_text = f\"{introduction}{articles_text}\\n\\nQuestion: {query}\"\n",
    "\n",
    "    messages = [\n",
    "        {\"role\": \"system\", \"content\": \"You only answer questions about the 2022 Winter Olympics.\"},\n",
    "        {\"role\": \"user\", \"content\": message_text},\n",
    "    ]\n",
    "\n",
    "    # Call the GPT API to get the answer\n",
    "    response = client.chat.completions.create(\n",
    "        model=model,\n",
    "        messages=messages,\n",
    "        temperature=0\n",
    "    )\n",
    "    return response.choices[0].message.content"
   ]
  },
  {
   "cell_type": "markdown",
   "metadata": {},
   "source": [
    "#### Try"
   ]
  },
  {
   "cell_type": "code",
   "execution_count": 32,
   "metadata": {},
   "outputs": [
    {
     "data": {
      "text/plain": [
       "'Niklas Edin, Sweden.'"
      ]
     },
     "execution_count": 32,
     "metadata": {},
     "output_type": "execute_result"
    }
   ],
   "source": [
    "ask('Which athletes won the gold medal in curling at the 2022 Winter Olympics? Just give me his name and contry.', knowledge_base=df)"
   ]
  },
  {
   "cell_type": "code",
   "execution_count": 35,
   "metadata": {},
   "outputs": [
    {
     "data": {
      "text/plain": [
       "'I am not allowed to tell you that.'"
      ]
     },
     "execution_count": 35,
     "metadata": {},
     "output_type": "execute_result"
    }
   ],
   "source": [
    "ask('Which athletes won the gold medal in curling at the 2020 Winter Olympics? Just give me his name and contry.', knowledge_base=df)"
   ]
  }
 ],
 "metadata": {
  "kernelspec": {
   "display_name": "agent",
   "language": "python",
   "name": "python3"
  },
  "language_info": {
   "codemirror_mode": {
    "name": "ipython",
    "version": 3
   },
   "file_extension": ".py",
   "mimetype": "text/x-python",
   "name": "python",
   "nbconvert_exporter": "python",
   "pygments_lexer": "ipython3",
   "version": "3.11.11"
  }
 },
 "nbformat": 4,
 "nbformat_minor": 2
}
